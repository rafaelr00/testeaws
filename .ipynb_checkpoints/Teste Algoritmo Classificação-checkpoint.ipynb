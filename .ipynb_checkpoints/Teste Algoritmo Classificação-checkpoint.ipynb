{
 "cells": [
  {
   "cell_type": "code",
   "execution_count": 1,
   "metadata": {},
   "outputs": [
    {
     "name": "stdout",
     "output_type": "stream",
     "text": [
      "Requirement already satisfied: matplotlib in /home/ec2-user/anaconda3/envs/tensorflow_p36/lib/python3.6/site-packages (3.0.3)\n",
      "Requirement already satisfied: cycler>=0.10 in /home/ec2-user/anaconda3/envs/tensorflow_p36/lib/python3.6/site-packages (from matplotlib) (0.10.0)\n",
      "Requirement already satisfied: numpy>=1.10.0 in /home/ec2-user/anaconda3/envs/tensorflow_p36/lib/python3.6/site-packages (from matplotlib) (1.16.4)\n",
      "Requirement already satisfied: kiwisolver>=1.0.1 in /home/ec2-user/anaconda3/envs/tensorflow_p36/lib/python3.6/site-packages (from matplotlib) (1.0.1)\n",
      "Requirement already satisfied: pyparsing!=2.0.4,!=2.1.2,!=2.1.6,>=2.0.1 in /home/ec2-user/anaconda3/envs/tensorflow_p36/lib/python3.6/site-packages (from matplotlib) (2.2.0)\n",
      "Requirement already satisfied: python-dateutil>=2.1 in /home/ec2-user/anaconda3/envs/tensorflow_p36/lib/python3.6/site-packages (from matplotlib) (2.7.3)\n",
      "Requirement already satisfied: six in /home/ec2-user/anaconda3/envs/tensorflow_p36/lib/python3.6/site-packages (from cycler>=0.10->matplotlib) (1.11.0)\n",
      "Requirement already satisfied: setuptools in /home/ec2-user/anaconda3/envs/tensorflow_p36/lib/python3.6/site-packages (from kiwisolver>=1.0.1->matplotlib) (45.2.0)\n",
      "\u001b[33mWARNING: You are using pip version 19.3.1; however, version 20.0.2 is available.\n",
      "You should consider upgrading via the 'pip install --upgrade pip' command.\u001b[0m\n"
     ]
    }
   ],
   "source": [
    "!pip install matplotlib\n",
    "import numpy as np\n",
    "import matplotlib.pyplot as plt\n",
    "import pandas as pd\n",
    "\n",
    "# Importing the dataset\n",
    "dataset = pd.read_csv('Churn_Modelling.csv')\n",
    "X = dataset.iloc[:, 3:13].values\n",
    "y = dataset.iloc[:, 13].values"
   ]
  },
  {
   "cell_type": "code",
   "execution_count": 2,
   "metadata": {},
   "outputs": [],
   "source": [
    "# Encoding categorical data\n",
    "from sklearn.preprocessing import LabelEncoder, OneHotEncoder\n",
    "from sklearn.compose import ColumnTransformer\n",
    "labelencoder_X_1 = LabelEncoder()"
   ]
  },
  {
   "cell_type": "code",
   "execution_count": 3,
   "metadata": {},
   "outputs": [],
   "source": [
    "X[:, 1] = labelencoder_X_1.fit_transform(X[:, 1])\n",
    "labelencoder_X_2 = LabelEncoder()"
   ]
  },
  {
   "cell_type": "code",
   "execution_count": 4,
   "metadata": {},
   "outputs": [],
   "source": [
    "X[:, 2] = labelencoder_X_2.fit_transform(X[:, 2])"
   ]
  },
  {
   "cell_type": "code",
   "execution_count": 5,
   "metadata": {},
   "outputs": [],
   "source": [
    "\n",
    "onehotencoder = ColumnTransformer([('encoder', OneHotEncoder(), [1])], remainder='passthrough')\n",
    "X=np.array(onehotencoder.fit_transform(X), dtype = np.str)"
   ]
  },
  {
   "cell_type": "code",
   "execution_count": 6,
   "metadata": {},
   "outputs": [],
   "source": [
    "#X = onehotencoder.fit_transform(X).toarray()"
   ]
  },
  {
   "cell_type": "code",
   "execution_count": 7,
   "metadata": {},
   "outputs": [],
   "source": [
    "X = X[:, 1:]"
   ]
  },
  {
   "cell_type": "code",
   "execution_count": 8,
   "metadata": {},
   "outputs": [
    {
     "name": "stderr",
     "output_type": "stream",
     "text": [
      "Using TensorFlow backend.\n"
     ]
    },
    {
     "name": "stdout",
     "output_type": "stream",
     "text": [
      "WARNING:tensorflow:From /home/ec2-user/anaconda3/envs/tensorflow_p36/lib/python3.6/site-packages/tensorflow_core/__init__.py:1467: The name tf.estimator.inputs is deprecated. Please use tf.compat.v1.estimator.inputs instead.\n",
      "\n",
      "WARNING:tensorflow:From /home/ec2-user/anaconda3/envs/tensorflow_p36/lib/python3.6/site-packages/keras/backend/tensorflow_backend.py:74: The name tf.get_default_graph is deprecated. Please use tf.compat.v1.get_default_graph instead.\n",
      "\n",
      "WARNING:tensorflow:From /home/ec2-user/anaconda3/envs/tensorflow_p36/lib/python3.6/site-packages/keras/backend/tensorflow_backend.py:517: The name tf.placeholder is deprecated. Please use tf.compat.v1.placeholder instead.\n",
      "\n",
      "WARNING:tensorflow:From /home/ec2-user/anaconda3/envs/tensorflow_p36/lib/python3.6/site-packages/keras/backend/tensorflow_backend.py:4138: The name tf.random_uniform is deprecated. Please use tf.random.uniform instead.\n",
      "\n",
      "WARNING:tensorflow:From /home/ec2-user/anaconda3/envs/tensorflow_p36/lib/python3.6/site-packages/keras/optimizers.py:790: The name tf.train.Optimizer is deprecated. Please use tf.compat.v1.train.Optimizer instead.\n",
      "\n",
      "WARNING:tensorflow:From /home/ec2-user/anaconda3/envs/tensorflow_p36/lib/python3.6/site-packages/keras/backend/tensorflow_backend.py:3376: The name tf.log is deprecated. Please use tf.math.log instead.\n",
      "\n",
      "WARNING:tensorflow:From /home/ec2-user/anaconda3/envs/tensorflow_p36/lib/python3.6/site-packages/tensorflow_core/python/ops/nn_impl.py:183: where (from tensorflow.python.ops.array_ops) is deprecated and will be removed in a future version.\n",
      "Instructions for updating:\n",
      "Use tf.where in 2.0, which has the same broadcast rule as np.where\n"
     ]
    }
   ],
   "source": [
    "# Splitting the dataset into the Training set and Test set\n",
    "from sklearn.model_selection import train_test_split\n",
    "X_train, X_test, y_train, y_test = train_test_split(X, y, test_size = 0.2, random_state = 0)\n",
    "\n",
    "# Feature Scaling\n",
    "from sklearn.preprocessing import StandardScaler\n",
    "sc = StandardScaler()\n",
    "X_train = sc.fit_transform(X_train)\n",
    "X_test = sc.transform(X_test)\n",
    "\n",
    "# Part 2 - Now let's make the ANN!\n",
    "\n",
    "# Importing the Keras libraries and packages\n",
    "import keras\n",
    "from keras.models import Sequential\n",
    "from keras.layers import Dense\n",
    "\n",
    "# Initialising the ANN\n",
    "classifier = Sequential()\n",
    "\n",
    "# Adding the input layer and the first hidden layer\n",
    "classifier.add(Dense(units = 6, kernel_initializer = 'uniform', activation = 'relu', input_dim = 11))\n",
    "\n",
    "# Adding the second hidden layer\n",
    "classifier.add(Dense(units = 6, kernel_initializer = 'uniform', activation = 'relu'))\n",
    "\n",
    "# Adding the output layer\n",
    "classifier.add(Dense(units = 1, kernel_initializer = 'uniform', activation = 'sigmoid'))\n",
    "\n",
    "# Compiling the ANN\n",
    "classifier.compile(optimizer = 'adam', loss = 'binary_crossentropy', metrics = ['accuracy'])\n",
    "\n"
   ]
  },
  {
   "cell_type": "code",
   "execution_count": 9,
   "metadata": {},
   "outputs": [
    {
     "name": "stdout",
     "output_type": "stream",
     "text": [
      "WARNING:tensorflow:From /home/ec2-user/anaconda3/envs/tensorflow_p36/lib/python3.6/site-packages/keras/backend/tensorflow_backend.py:986: The name tf.assign_add is deprecated. Please use tf.compat.v1.assign_add instead.\n",
      "\n",
      "WARNING:tensorflow:From /home/ec2-user/anaconda3/envs/tensorflow_p36/lib/python3.6/site-packages/keras/backend/tensorflow_backend.py:973: The name tf.assign is deprecated. Please use tf.compat.v1.assign instead.\n",
      "\n",
      "WARNING:tensorflow:From /home/ec2-user/anaconda3/envs/tensorflow_p36/lib/python3.6/site-packages/keras/backend/tensorflow_backend.py:2741: The name tf.Session is deprecated. Please use tf.compat.v1.Session instead.\n",
      "\n",
      "Epoch 1/100\n",
      "WARNING:tensorflow:From /home/ec2-user/anaconda3/envs/tensorflow_p36/lib/python3.6/site-packages/keras/backend/tensorflow_backend.py:174: The name tf.get_default_session is deprecated. Please use tf.compat.v1.get_default_session instead.\n",
      "\n",
      "WARNING:tensorflow:From /home/ec2-user/anaconda3/envs/tensorflow_p36/lib/python3.6/site-packages/keras/backend/tensorflow_backend.py:184: The name tf.ConfigProto is deprecated. Please use tf.compat.v1.ConfigProto instead.\n",
      "\n",
      "WARNING:tensorflow:From /home/ec2-user/anaconda3/envs/tensorflow_p36/lib/python3.6/site-packages/keras/backend/tensorflow_backend.py:190: The name tf.global_variables is deprecated. Please use tf.compat.v1.global_variables instead.\n",
      "\n",
      "WARNING:tensorflow:From /home/ec2-user/anaconda3/envs/tensorflow_p36/lib/python3.6/site-packages/keras/backend/tensorflow_backend.py:199: The name tf.is_variable_initialized is deprecated. Please use tf.compat.v1.is_variable_initialized instead.\n",
      "\n",
      "WARNING:tensorflow:From /home/ec2-user/anaconda3/envs/tensorflow_p36/lib/python3.6/site-packages/keras/backend/tensorflow_backend.py:206: The name tf.variables_initializer is deprecated. Please use tf.compat.v1.variables_initializer instead.\n",
      "\n",
      "8000/8000 [==============================] - 2s 301us/step - loss: 0.4797 - acc: 0.7960\n",
      "Epoch 2/100\n",
      "8000/8000 [==============================] - 1s 167us/step - loss: 0.4271 - acc: 0.7960\n",
      "Epoch 3/100\n",
      "8000/8000 [==============================] - 1s 169us/step - loss: 0.4207 - acc: 0.8035\n",
      "Epoch 4/100\n",
      "8000/8000 [==============================] - 1s 171us/step - loss: 0.4177 - acc: 0.8245\n",
      "Epoch 5/100\n",
      "8000/8000 [==============================] - 1s 170us/step - loss: 0.4154 - acc: 0.8281\n",
      "Epoch 6/100\n",
      "8000/8000 [==============================] - 1s 170us/step - loss: 0.4135 - acc: 0.8304\n",
      "Epoch 7/100\n",
      "8000/8000 [==============================] - 1s 168us/step - loss: 0.4125 - acc: 0.8309\n",
      "Epoch 8/100\n",
      "8000/8000 [==============================] - 1s 170us/step - loss: 0.4103 - acc: 0.8324\n",
      "Epoch 9/100\n",
      "8000/8000 [==============================] - 1s 168us/step - loss: 0.4094 - acc: 0.8341\n",
      "Epoch 10/100\n",
      "8000/8000 [==============================] - 1s 175us/step - loss: 0.4090 - acc: 0.8336\n",
      "Epoch 11/100\n",
      "8000/8000 [==============================] - 1s 170us/step - loss: 0.4081 - acc: 0.8354\n",
      "Epoch 12/100\n",
      "8000/8000 [==============================] - 1s 173us/step - loss: 0.4073 - acc: 0.8346\n",
      "Epoch 13/100\n",
      "8000/8000 [==============================] - 1s 173us/step - loss: 0.4069 - acc: 0.8349\n",
      "Epoch 14/100\n",
      "8000/8000 [==============================] - 1s 169us/step - loss: 0.4066 - acc: 0.8355\n",
      "Epoch 15/100\n",
      "8000/8000 [==============================] - 1s 171us/step - loss: 0.4058 - acc: 0.8354\n",
      "Epoch 16/100\n",
      "8000/8000 [==============================] - 1s 171us/step - loss: 0.4052 - acc: 0.8349\n",
      "Epoch 17/100\n",
      "8000/8000 [==============================] - 1s 170us/step - loss: 0.4047 - acc: 0.8346\n",
      "Epoch 18/100\n",
      "8000/8000 [==============================] - 1s 170us/step - loss: 0.4047 - acc: 0.8341\n",
      "Epoch 19/100\n",
      "8000/8000 [==============================] - 1s 171us/step - loss: 0.4041 - acc: 0.8335\n",
      "Epoch 20/100\n",
      "8000/8000 [==============================] - 1s 173us/step - loss: 0.4039 - acc: 0.8361\n",
      "Epoch 21/100\n",
      "8000/8000 [==============================] - 1s 172us/step - loss: 0.4039 - acc: 0.8341\n",
      "Epoch 22/100\n",
      "8000/8000 [==============================] - 1s 172us/step - loss: 0.4038 - acc: 0.8351\n",
      "Epoch 23/100\n",
      "8000/8000 [==============================] - 1s 172us/step - loss: 0.4038 - acc: 0.8342\n",
      "Epoch 24/100\n",
      "8000/8000 [==============================] - 1s 171us/step - loss: 0.4036 - acc: 0.8357\n",
      "Epoch 25/100\n",
      "8000/8000 [==============================] - 1s 172us/step - loss: 0.4025 - acc: 0.8347\n",
      "Epoch 26/100\n",
      "8000/8000 [==============================] - 1s 173us/step - loss: 0.4029 - acc: 0.8345\n",
      "Epoch 27/100\n",
      "8000/8000 [==============================] - 1s 171us/step - loss: 0.4029 - acc: 0.8352\n",
      "Epoch 28/100\n",
      "8000/8000 [==============================] - 1s 173us/step - loss: 0.4019 - acc: 0.8339\n",
      "Epoch 29/100\n",
      "8000/8000 [==============================] - 1s 174us/step - loss: 0.4022 - acc: 0.8362\n",
      "Epoch 30/100\n",
      "8000/8000 [==============================] - 1s 170us/step - loss: 0.4025 - acc: 0.8340\n",
      "Epoch 31/100\n",
      "8000/8000 [==============================] - 1s 171us/step - loss: 0.4024 - acc: 0.8339\n",
      "Epoch 32/100\n",
      "8000/8000 [==============================] - 1s 170us/step - loss: 0.4024 - acc: 0.8344\n",
      "Epoch 33/100\n",
      "8000/8000 [==============================] - 1s 169us/step - loss: 0.4017 - acc: 0.8334\n",
      "Epoch 34/100\n",
      "8000/8000 [==============================] - 1s 170us/step - loss: 0.4012 - acc: 0.8340\n",
      "Epoch 35/100\n",
      "8000/8000 [==============================] - 1s 170us/step - loss: 0.4022 - acc: 0.8362\n",
      "Epoch 36/100\n",
      "8000/8000 [==============================] - 1s 173us/step - loss: 0.4014 - acc: 0.8339\n",
      "Epoch 37/100\n",
      "8000/8000 [==============================] - 1s 169us/step - loss: 0.4016 - acc: 0.8361\n",
      "Epoch 38/100\n",
      "8000/8000 [==============================] - 1s 169us/step - loss: 0.4018 - acc: 0.8359\n",
      "Epoch 39/100\n",
      "8000/8000 [==============================] - 1s 168us/step - loss: 0.4016 - acc: 0.8342\n",
      "Epoch 40/100\n",
      "8000/8000 [==============================] - 1s 169us/step - loss: 0.4009 - acc: 0.8337\n",
      "Epoch 41/100\n",
      "8000/8000 [==============================] - 1s 167us/step - loss: 0.4014 - acc: 0.8360\n",
      "Epoch 42/100\n",
      "8000/8000 [==============================] - 1s 168us/step - loss: 0.4015 - acc: 0.8345\n",
      "Epoch 43/100\n",
      "8000/8000 [==============================] - 1s 168us/step - loss: 0.4015 - acc: 0.8352\n",
      "Epoch 44/100\n",
      "8000/8000 [==============================] - 1s 167us/step - loss: 0.4010 - acc: 0.8340\n",
      "Epoch 45/100\n",
      "8000/8000 [==============================] - 1s 168us/step - loss: 0.4015 - acc: 0.8355\n",
      "Epoch 46/100\n",
      "8000/8000 [==============================] - 1s 168us/step - loss: 0.4012 - acc: 0.8354\n",
      "Epoch 47/100\n",
      "8000/8000 [==============================] - 1s 168us/step - loss: 0.4006 - acc: 0.8335\n",
      "Epoch 48/100\n",
      "8000/8000 [==============================] - 1s 167us/step - loss: 0.4007 - acc: 0.8365\n",
      "Epoch 49/100\n",
      "8000/8000 [==============================] - 1s 169us/step - loss: 0.4015 - acc: 0.8350\n",
      "Epoch 50/100\n",
      "8000/8000 [==============================] - 1s 166us/step - loss: 0.4006 - acc: 0.8340\n",
      "Epoch 51/100\n",
      "8000/8000 [==============================] - 1s 168us/step - loss: 0.4006 - acc: 0.8352\n",
      "Epoch 52/100\n",
      "8000/8000 [==============================] - 1s 168us/step - loss: 0.4011 - acc: 0.8345\n",
      "Epoch 53/100\n",
      "8000/8000 [==============================] - 1s 169us/step - loss: 0.4008 - acc: 0.8380\n",
      "Epoch 54/100\n",
      "8000/8000 [==============================] - 1s 170us/step - loss: 0.4009 - acc: 0.8350\n",
      "Epoch 55/100\n",
      "8000/8000 [==============================] - 1s 168us/step - loss: 0.4015 - acc: 0.8345\n",
      "Epoch 56/100\n",
      "8000/8000 [==============================] - 1s 167us/step - loss: 0.4009 - acc: 0.8354\n",
      "Epoch 57/100\n",
      "8000/8000 [==============================] - 1s 169us/step - loss: 0.4002 - acc: 0.8352\n",
      "Epoch 58/100\n",
      "8000/8000 [==============================] - 1s 169us/step - loss: 0.4010 - acc: 0.8355\n",
      "Epoch 59/100\n",
      "8000/8000 [==============================] - 1s 168us/step - loss: 0.4012 - acc: 0.8344\n",
      "Epoch 60/100\n",
      "8000/8000 [==============================] - 1s 168us/step - loss: 0.4008 - acc: 0.8355\n",
      "Epoch 61/100\n",
      "8000/8000 [==============================] - 1s 168us/step - loss: 0.4008 - acc: 0.8346\n",
      "Epoch 62/100\n",
      "8000/8000 [==============================] - 1s 169us/step - loss: 0.4011 - acc: 0.8352\n",
      "Epoch 63/100\n",
      "8000/8000 [==============================] - 1s 168us/step - loss: 0.4008 - acc: 0.8350\n",
      "Epoch 64/100\n",
      "8000/8000 [==============================] - 1s 168us/step - loss: 0.4008 - acc: 0.8351\n",
      "Epoch 65/100\n",
      "8000/8000 [==============================] - 1s 168us/step - loss: 0.4010 - acc: 0.8336\n",
      "Epoch 66/100\n",
      "8000/8000 [==============================] - 1s 168us/step - loss: 0.4006 - acc: 0.8345\n",
      "Epoch 67/100\n",
      "8000/8000 [==============================] - 1s 166us/step - loss: 0.4006 - acc: 0.8359\n",
      "Epoch 68/100\n",
      "8000/8000 [==============================] - 1s 176us/step - loss: 0.4006 - acc: 0.8349\n",
      "Epoch 69/100\n",
      "8000/8000 [==============================] - 1s 172us/step - loss: 0.4008 - acc: 0.8345\n",
      "Epoch 70/100\n",
      "8000/8000 [==============================] - 1s 169us/step - loss: 0.4005 - acc: 0.8349\n",
      "Epoch 71/100\n",
      "8000/8000 [==============================] - 1s 175us/step - loss: 0.4001 - acc: 0.8366\n",
      "Epoch 72/100\n",
      "8000/8000 [==============================] - 1s 171us/step - loss: 0.4007 - acc: 0.8344\n",
      "Epoch 73/100\n",
      "8000/8000 [==============================] - 1s 170us/step - loss: 0.4008 - acc: 0.8355\n",
      "Epoch 74/100\n",
      "8000/8000 [==============================] - 1s 169us/step - loss: 0.3998 - acc: 0.8339\n",
      "Epoch 75/100\n",
      "8000/8000 [==============================] - 1s 170us/step - loss: 0.4010 - acc: 0.8334\n",
      "Epoch 76/100\n",
      "8000/8000 [==============================] - 1s 171us/step - loss: 0.4008 - acc: 0.8327\n",
      "Epoch 77/100\n",
      "8000/8000 [==============================] - 1s 169us/step - loss: 0.4003 - acc: 0.8344\n",
      "Epoch 78/100\n",
      "8000/8000 [==============================] - 1s 168us/step - loss: 0.4006 - acc: 0.8347\n",
      "Epoch 79/100\n",
      "8000/8000 [==============================] - 1s 168us/step - loss: 0.4006 - acc: 0.8356\n",
      "Epoch 80/100\n",
      "8000/8000 [==============================] - 1s 178us/step - loss: 0.4007 - acc: 0.8351\n",
      "Epoch 81/100\n",
      "8000/8000 [==============================] - 2s 221us/step - loss: 0.4002 - acc: 0.8329\n",
      "Epoch 82/100\n",
      "8000/8000 [==============================] - 2s 235us/step - loss: 0.4005 - acc: 0.8344\n",
      "Epoch 83/100\n",
      "8000/8000 [==============================] - 2s 228us/step - loss: 0.4006 - acc: 0.8349\n",
      "Epoch 84/100\n",
      "8000/8000 [==============================] - 2s 200us/step - loss: 0.4005 - acc: 0.8357\n",
      "Epoch 85/100\n",
      "8000/8000 [==============================] - 1s 170us/step - loss: 0.4000 - acc: 0.8347\n",
      "Epoch 86/100\n",
      "8000/8000 [==============================] - 1s 169us/step - loss: 0.4006 - acc: 0.8349\n",
      "Epoch 87/100\n",
      "8000/8000 [==============================] - 1s 168us/step - loss: 0.4007 - acc: 0.8361\n",
      "Epoch 88/100\n",
      "8000/8000 [==============================] - 1s 168us/step - loss: 0.4004 - acc: 0.8356\n",
      "Epoch 89/100\n",
      "8000/8000 [==============================] - 1s 170us/step - loss: 0.4001 - acc: 0.8349\n",
      "Epoch 90/100\n",
      "8000/8000 [==============================] - 1s 167us/step - loss: 0.4007 - acc: 0.8345\n",
      "Epoch 91/100\n",
      "8000/8000 [==============================] - 1s 169us/step - loss: 0.4004 - acc: 0.8351\n",
      "Epoch 92/100\n",
      "8000/8000 [==============================] - 1s 167us/step - loss: 0.4003 - acc: 0.8346\n",
      "Epoch 93/100\n",
      "8000/8000 [==============================] - 1s 170us/step - loss: 0.4003 - acc: 0.8346\n",
      "Epoch 94/100\n",
      "8000/8000 [==============================] - 1s 168us/step - loss: 0.4000 - acc: 0.8349\n",
      "Epoch 95/100\n",
      "8000/8000 [==============================] - 1s 168us/step - loss: 0.4002 - acc: 0.8352\n",
      "Epoch 96/100\n",
      "8000/8000 [==============================] - 1s 168us/step - loss: 0.3999 - acc: 0.8354\n",
      "Epoch 97/100\n",
      "8000/8000 [==============================] - 1s 171us/step - loss: 0.4003 - acc: 0.8340\n",
      "Epoch 98/100\n",
      "8000/8000 [==============================] - 1s 170us/step - loss: 0.4003 - acc: 0.8356\n",
      "Epoch 99/100\n",
      "8000/8000 [==============================] - 1s 169us/step - loss: 0.4004 - acc: 0.8337\n",
      "Epoch 100/100\n",
      "8000/8000 [==============================] - 1s 168us/step - loss: 0.4002 - acc: 0.8339\n"
     ]
    }
   ],
   "source": [
    "# Fitting the ANN to the Training set\n",
    "import time\n",
    "inicio=time.time()\n",
    "classifier.fit(X_train, y_train, batch_size = 10, epochs = 100)\n",
    "fim=time.time()"
   ]
  },
  {
   "cell_type": "code",
   "execution_count": 10,
   "metadata": {},
   "outputs": [
    {
     "data": {
      "text/plain": [
       "138.85599374771118"
      ]
     },
     "execution_count": 10,
     "metadata": {},
     "output_type": "execute_result"
    }
   ],
   "source": [
    "tempo=(fim-inicio)\n",
    "tempo"
   ]
  },
  {
   "cell_type": "code",
   "execution_count": 11,
   "metadata": {},
   "outputs": [],
   "source": [
    "# Part 3 - Making predictions and evaluating the model\n",
    "\n",
    "# Predicting the Test set results\n",
    "y_pred = classifier.predict(X_test)\n",
    "y_pred = (y_pred > 0.5)"
   ]
  },
  {
   "cell_type": "code",
   "execution_count": 12,
   "metadata": {},
   "outputs": [
    {
     "data": {
      "text/plain": [
       "'Predict if the customer with the following informations will leave the bank:\\nGeography: France\\nCredit Score: 600\\nGender: Male\\nAge: 40\\nTenure: 3\\nBalance: 60000\\nNumber of Products: 2\\nHas Credit Card: Yes\\nIs Active Member: Yes\\nEstimated Salary: 50000'"
      ]
     },
     "execution_count": 12,
     "metadata": {},
     "output_type": "execute_result"
    }
   ],
   "source": [
    "# Predicting a single new observation\n",
    "\"\"\"Predict if the customer with the following informations will leave the bank:\n",
    "Geography: France\n",
    "Credit Score: 600\n",
    "Gender: Male\n",
    "Age: 40\n",
    "Tenure: 3\n",
    "Balance: 60000\n",
    "Number of Products: 2\n",
    "Has Credit Card: Yes\n",
    "Is Active Member: Yes\n",
    "Estimated Salary: 50000\"\"\""
   ]
  },
  {
   "cell_type": "code",
   "execution_count": 13,
   "metadata": {},
   "outputs": [
    {
     "data": {
      "text/plain": [
       "array([[False]])"
      ]
     },
     "execution_count": 13,
     "metadata": {},
     "output_type": "execute_result"
    }
   ],
   "source": [
    "new_prediction = classifier.predict(sc.transform(np.array([[0.0, 0, 600, 1, 40, 3, 60000, 2, 1, 1, 50000]])))\n",
    "new_prediction = (new_prediction > 0.5)\n",
    "new_prediction"
   ]
  },
  {
   "cell_type": "code",
   "execution_count": 14,
   "metadata": {},
   "outputs": [],
   "source": [
    "# Making the Confusion Matrix\n",
    "from sklearn.metrics import confusion_matrix\n",
    "cm = confusion_matrix(y_test, y_pred)"
   ]
  },
  {
   "cell_type": "code",
   "execution_count": 15,
   "metadata": {},
   "outputs": [
    {
     "data": {
      "text/plain": [
       "array([[1537,   58],\n",
       "       [ 259,  146]])"
      ]
     },
     "execution_count": 15,
     "metadata": {},
     "output_type": "execute_result"
    }
   ],
   "source": [
    "cm"
   ]
  },
  {
   "cell_type": "code",
   "execution_count": null,
   "metadata": {},
   "outputs": [],
   "source": []
  }
 ],
 "metadata": {
  "kernelspec": {
   "display_name": "conda_tensorflow_p36",
   "language": "python",
   "name": "conda_tensorflow_p36"
  },
  "language_info": {
   "codemirror_mode": {
    "name": "ipython",
    "version": 3
   },
   "file_extension": ".py",
   "mimetype": "text/x-python",
   "name": "python",
   "nbconvert_exporter": "python",
   "pygments_lexer": "ipython3",
   "version": "3.6.6"
  }
 },
 "nbformat": 4,
 "nbformat_minor": 4
}
